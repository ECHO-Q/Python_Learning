{
 "cells": [
  {
   "cell_type": "code",
   "execution_count": 2,
   "metadata": {},
   "outputs": [
    {
     "name": "stdout",
     "output_type": "stream",
     "text": [
      "5*5 identity matrix: \n",
      "\n"
     ]
    },
    {
     "data": {
      "text/plain": [
       "array([[1., 0., 0., 0., 0.],\n",
       "       [0., 1., 0., 0., 0.],\n",
       "       [0., 0., 1., 0., 0.],\n",
       "       [0., 0., 0., 1., 0.],\n",
       "       [0., 0., 0., 0., 1.]])"
      ]
     },
     "execution_count": 2,
     "metadata": {},
     "output_type": "execute_result"
    }
   ],
   "source": [
    "import numpy as np\n",
    "print('5*5 identity matrix: \\n')\n",
    "def warmUpExercise():\n",
    "    A=np.identity(5)  ##np.eye(5) or np.diag([1]*5)\n",
    "    return A\n",
    "warmUpExercise()"
   ]
  },
  {
   "cell_type": "code",
   "execution_count": 14,
   "metadata": {},
   "outputs": [
    {
     "name": "stdout",
     "output_type": "stream",
     "text": [
      "plotting data...\n",
      "\n"
     ]
    },
    {
     "data": {
      "image/png": "[encoded data removed]",
      "text/plain": [
       "<Figure size 432x288 with 1 Axes>"
      ]
     },
     "metadata": {},
     "output_type": "display_data"
    }
   ],
   "source": [
    "import numpy as np\n",
    "print('plotting data...\\n')\n",
    "data=np.loadtxt('E:/ML/machine-learning-ex1/ex1/ex1data1.txt',delimiter=',')\n",
    "#print(data)\n",
    "X=np.array(data[:,0])\n",
    "#print(X)\n",
    "y=np.array(data[:,1])\n",
    "#print(y)\n",
    "m=len(y)\n",
    "#print(m)\n",
    "import matplotlib.pyplot as plt\n",
    "def plotData(X,y):   \n",
    "    plt.title('plotData')\n",
    "    plt.xlabel('X-value')\n",
    "    plt.ylabel('y-value')\n",
    "    plt.scatter(X,y,c='r',marker='x')\n",
    "    plt.show()\n",
    "plotData(X,y)"
   ]
  },
  {
   "cell_type": "code",
   "execution_count": 1,
   "metadata": {
    "collapsed": true
   },
   "outputs": [
    {
     "name": "stdout",
     "output_type": "stream",
     "text": [
      "With theta = [0 ; 0],  Cost computed =  \n",
      " 32.072733877455676\n",
      "final theta is: \n",
      " [-3.63029144  1.16636235]\n"
     ]
    }
   ],
   "source": [
    "import numpy as np\n",
    "data=np.loadtxt('E:/ML/machine-learning-ex1/ex1/ex1data1.txt',delimiter=',')\n",
    "y=np.array(data[:,1])\n",
    "m=len(y)\n",
    "# X=np.ones(m)\n",
    "# X=np.column_stack((X,data[:,0]))\n",
    "X=np.column_stack((np.ones(m),data[:,0]))\n",
    "#print(X)\n",
    "theta=np.zeros(2)\n",
    "iterations=1500\n",
    "alpha=0.01\n",
    "def computeCost(X,y,theta):\n",
    "    m=len(y)\n",
    "    J=0\n",
    "    inner=(X.dot(theta.T)-y)**2\n",
    "    J=(inner.sum())/(2*m)\n",
    "    return J\n",
    "J=computeCost(X,y,theta)\n",
    "print('With theta = [0 ; 0],  Cost computed =  \\n',J)\n",
    "def gradientDescent(X,y,theta,alpha,num_iters):\n",
    "    m=len(y)\n",
    "    J_history=np.zeros(num_iters)\n",
    "    for iteri in range(num_iters):\n",
    "        inner1=X.dot(theta.T)-y\n",
    "        for i in range(2):\n",
    "            inner=inner1*X[:,i]\n",
    "            middle=(inner.sum()/m)*alpha\n",
    "            theta[i]=theta[i]-middle\n",
    "        J_history[iteri]=computeCost(X,y,theta)\n",
    "    return theta\n",
    "theta=gradientDescent(X,y,theta,alpha,iterations)\n",
    "print('final theta is: \\n',theta)"
   ]
  },
  {
   "cell_type": "code",
   "execution_count": 7,
   "metadata": {},
   "outputs": [
    {
     "data": {
      "image/png": "[encoded data removed]",
      "text/plain": [
       "<Figure size 576x360 with 1 Axes>"
      ]
     },
     "metadata": {},
     "output_type": "display_data"
    }
   ],
   "source": [
    "import numpy as np\n",
    "import pandas as pd \n",
    "import matplotlib.pyplot as plt\n",
    "path='E:/ML/machine-learning-ex1/ex1/ex1data1.txt'\n",
    "data=pd.read_csv(path,header=None,names=['Population','Profit'])\n",
    "data.head()\n",
    "# data.describe()\n",
    "data.plot(kind='scatter',x='Population',y='Profit',figsize=(8,5))\n",
    "# data.plot.scatter(x='Population',y='Profit',marker='x',c='r')\n",
    "plt.show()"
   ]
  },
  {
   "cell_type": "code",
   "execution_count": 1,
   "metadata": {},
   "outputs": [
    {
     "ename": "IndexError",
     "evalue": "index 1 is out of bounds for axis 1 with size 1",
     "output_type": "error",
     "traceback": [
      "\u001b[1;31m---------------------------------------------------------------------------\u001b[0m",
      "\u001b[1;31mIndexError\u001b[0m                                Traceback (most recent call last)",
      "\u001b[1;32m<ipython-input-1-b97e56570a1a>\u001b[0m in \u001b[0;36m<module>\u001b[1;34m()\u001b[0m\n\u001b[0;32m     13\u001b[0m \u001b[0mmodel\u001b[0m\u001b[1;33m=\u001b[0m\u001b[0mlinear_model\u001b[0m\u001b[1;33m.\u001b[0m\u001b[0mLinearRegression\u001b[0m\u001b[1;33m(\u001b[0m\u001b[1;33m)\u001b[0m\u001b[1;33m\u001b[0m\u001b[0m\n\u001b[0;32m     14\u001b[0m \u001b[0mmodel\u001b[0m\u001b[1;33m.\u001b[0m\u001b[0mfit\u001b[0m\u001b[1;33m(\u001b[0m\u001b[0mX\u001b[0m\u001b[1;33m,\u001b[0m\u001b[0my\u001b[0m\u001b[1;33m)\u001b[0m\u001b[1;33m\u001b[0m\u001b[0m\n\u001b[1;32m---> 15\u001b[1;33m \u001b[0mprint\u001b[0m\u001b[1;33m(\u001b[0m\u001b[0mnp\u001b[0m\u001b[1;33m.\u001b[0m\u001b[0marray\u001b[0m\u001b[1;33m(\u001b[0m\u001b[0mX\u001b[0m\u001b[1;33m[\u001b[0m\u001b[1;33m:\u001b[0m\u001b[1;33m,\u001b[0m\u001b[1;36m1\u001b[0m\u001b[1;33m]\u001b[0m\u001b[1;33m.\u001b[0m\u001b[0mA1\u001b[0m\u001b[1;33m)\u001b[0m\u001b[1;33m)\u001b[0m\u001b[1;33m\u001b[0m\u001b[0m\n\u001b[0m\u001b[0;32m     16\u001b[0m \u001b[1;31m# f=model.predict(X).flatten()\u001b[0m\u001b[1;33m\u001b[0m\u001b[1;33m\u001b[0m\u001b[0m\n\u001b[0;32m     17\u001b[0m \u001b[1;31m# fig,ax=plt.subplots(figsize=(8,5))\u001b[0m\u001b[1;33m\u001b[0m\u001b[1;33m\u001b[0m\u001b[0m\n",
      "\u001b[1;32m~\\AppData\\Roaming\\Python\\Python36\\site-packages\\numpy\\matrixlib\\defmatrix.py\u001b[0m in \u001b[0;36m__getitem__\u001b[1;34m(self, index)\u001b[0m\n\u001b[0;32m    193\u001b[0m \u001b[1;33m\u001b[0m\u001b[0m\n\u001b[0;32m    194\u001b[0m         \u001b[1;32mtry\u001b[0m\u001b[1;33m:\u001b[0m\u001b[1;33m\u001b[0m\u001b[0m\n\u001b[1;32m--> 195\u001b[1;33m             \u001b[0mout\u001b[0m \u001b[1;33m=\u001b[0m \u001b[0mN\u001b[0m\u001b[1;33m.\u001b[0m\u001b[0mndarray\u001b[0m\u001b[1;33m.\u001b[0m\u001b[0m__getitem__\u001b[0m\u001b[1;33m(\u001b[0m\u001b[0mself\u001b[0m\u001b[1;33m,\u001b[0m \u001b[0mindex\u001b[0m\u001b[1;33m)\u001b[0m\u001b[1;33m\u001b[0m\u001b[0m\n\u001b[0m\u001b[0;32m    196\u001b[0m         \u001b[1;32mfinally\u001b[0m\u001b[1;33m:\u001b[0m\u001b[1;33m\u001b[0m\u001b[0m\n\u001b[0;32m    197\u001b[0m             \u001b[0mself\u001b[0m\u001b[1;33m.\u001b[0m\u001b[0m_getitem\u001b[0m \u001b[1;33m=\u001b[0m \u001b[1;32mFalse\u001b[0m\u001b[1;33m\u001b[0m\u001b[0m\n",
      "\u001b[1;31mIndexError\u001b[0m: index 1 is out of bounds for axis 1 with size 1"
     ]
    }
   ],
   "source": [
    "# 未调通\n",
    "import numpy as np\n",
    "import pandas as pd\n",
    "import matplotlib.pyplot as plt\n",
    "path='E:/ML/machine-learning-ex1/ex1/ex1data1.txt'\n",
    "data=pd.read_csv(path,header=None,names=['Population','Profit'])\n",
    "cols=data.shape[1]\n",
    "X=data.iloc[:,0:cols-1]\n",
    "y=data.iloc[:,cols-1:cols]\n",
    "X=np.matrix(X.values)\n",
    "y=np.matrix(y.values)\n",
    "from sklearn import linear_model\n",
    "model=linear_model.LinearRegression()\n",
    "model.fit(X,y)\n",
    "print(np.array(X[:,1].A1))\n",
    "# f=model.predict(X).flatten()\n",
    "# fig,ax=plt.subplots(figsize=(8,5))\n",
    "# ax.plot(x,f,'r',label='Prediction')\n",
    "# ax.scatter(data.Population,data.Profit,label='Traning Data')\n",
    "# ax.legend(loc=2)\n",
    "# ax.set_xlabel('Population')\n",
    "# ax.set_ylabel('profit')\n",
    "# ax.set_title('predicted profit vs. population size')\n",
    "# plt.show()"
   ]
  },
  {
   "cell_type": "code",
   "execution_count": null,
   "metadata": {},
   "outputs": [],
   "source": []
  }
 ],
 "metadata": {
  "kernelspec": {
   "display_name": "Python 3",
   "language": "python",
   "name": "python3"
  },
  "language_info": {
   "codemirror_mode": {
    "name": "ipython",
    "version": 3
   },
   "file_extension": ".py",
   "mimetype": "text/x-python",
   "name": "python",
   "nbconvert_exporter": "python",
   "pygments_lexer": "ipython3",
   "version": "3.6.5"
  }
 },
 "nbformat": 4,
 "nbformat_minor": 2
}
