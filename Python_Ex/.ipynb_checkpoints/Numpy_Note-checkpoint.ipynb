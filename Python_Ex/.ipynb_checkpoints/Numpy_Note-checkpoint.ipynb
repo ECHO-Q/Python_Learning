{
 "cells": [
  {
   "cell_type": "code",
   "execution_count": 13,
   "metadata": {},
   "outputs": [
    {
     "name": "stdout",
     "output_type": "stream",
     "text": [
      "[[1 2 3]\n",
      " [2 3 4]]\n",
      "number of dim: 2\n",
      "shape: (2, 3)\n",
      "size: 6\n",
      "int64\n",
      "[[0. 0. 0. 0.]\n",
      " [0. 0. 0. 0.]\n",
      " [0. 0. 0. 0.]]\n",
      "[[1 1 1 1]\n",
      " [1 1 1 1]\n",
      " [1 1 1 1]]\n",
      "[10 12 14 16 18]\n",
      "[[ 0  1  2  3]\n",
      " [ 4  5  6  7]\n",
      " [ 8  9 10 11]]\n",
      "[ 1.   2.8  4.6  6.4  8.2 10. ]\n",
      "[0.         8.41470985 9.09297427 1.41120008]\n"
     ]
    }
   ],
   "source": [
    "\"\"\"\n",
    "7/5,莫烦Numpy学习笔记\n",
    "\"\"\"\n",
    "import numpy as np\n",
    "array=np.array([[1,2,3],[2,3,4]])  # numpy定义二维矩阵，需要括号里面多加一层【】\n",
    "print(array)\n",
    "print('number of dim:',array.ndim)\n",
    "print('shape:',array.shape)\n",
    "print('size:',array.size)\n",
    "a=np.array([2,3,4],dtype=np.int64)\n",
    "print(a.dtype)\n",
    "#  np.array, 有int32，int64，以及float32,float64类型\n",
    "\n",
    "azero=np.zeros((3,4))  #几行几列一定要用括号括起来  # 3行4列的矩阵\n",
    "print(azero)\n",
    "aones=np.ones((3,4),dtype=np.int64)  #后面可以加数据类型\n",
    "print(aones)\n",
    "a_range=np.arange(10,20,2)   #10~20，步长2的数组\n",
    "print(a_range)\n",
    "a_res=np.arange(12).reshape((3,4))   #0~11,3行4列\n",
    "print(a_res)\n",
    "a_lin=np.linspace(1,10,6)  #类似matlab，后面也可以加reshape更改它的行列数\n",
    "print(a_lin)\n"
   ]
  },
  {
   "cell_type": "code",
   "execution_count": 18,
   "metadata": {},
   "outputs": [
    {
     "name": "stdout",
     "output_type": "stream",
     "text": [
      "[[1 2]\n",
      " [2 3]]\n",
      "[[0 1]\n",
      " [2 3]]\n",
      "[[0 2]\n",
      " [4 9]]\n",
      "[[ 4  7]\n",
      " [ 6 11]]\n",
      "[[0.65376798 0.59007813 0.74966125 0.91879476]\n",
      " [0.17512426 0.55548395 0.78112043 0.15562724]]\n",
      "4.5796580055906215\n",
      "0.15562723972032166\n",
      "0.9187947583685654\n",
      "[2.91230213 1.66735587]\n"
     ]
    }
   ],
   "source": [
    "# 平方，幂都是双星号代表**\n",
    "b=np.arange(4).reshape((2,2))\n",
    "a=np.array([[1,2],[2,3]])\n",
    "print(a)\n",
    "print(b)\n",
    "c=a*b   #对应元素想乘\n",
    "c_dot=np.dot(a,b)  #矩阵相乘  这句也可以写成c_dot=a.dot(b)\n",
    "print(c)\n",
    "print(c_dot)\n",
    "# c=10*np.sin(b)\n",
    "# print(c)\n",
    "\n",
    "a=np.random.random((2,4))\n",
    "print(a)\n",
    "print(np.sum(a))\n",
    "print(np.min(a))\n",
    "print(np.max(a))   #求和，最大，最小值\n",
    "#  可以通过定义axis来确定是在哪一行或者哪一列中进行这些操作，比如 np.sum(a,axis=1)\n",
    "print(np.sum(a,axis=1))\n",
    "# axis=0,沿着纵轴进行操作，axis=1沿着横轴进行操作 具体见Numpy的笔记\n"
   ]
  },
  {
   "cell_type": "code",
   "execution_count": 29,
   "metadata": {},
   "outputs": [
    {
     "name": "stdout",
     "output_type": "stream",
     "text": [
      "[[ 2  3  4  5]\n",
      " [ 6  7  8  9]\n",
      " [10 11 12 13]]\n",
      "0\n",
      "11\n",
      "7.5\n",
      "7.5\n",
      "[[1 1 1]\n",
      " [1 1 1]\n",
      " [1 1 1]]\n",
      "[ 2  5  9 14 20 27 35 44 54 65 77 90]\n",
      "(array([0, 0, 0, 0, 1, 1, 1, 1, 2, 2, 2, 2], dtype=int64), array([0, 1, 2, 3, 0, 1, 2, 3, 0, 1, 2, 3], dtype=int64))\n",
      "[[0.59007813 0.65376798 0.74966125 0.91879476]\n",
      " [0.15562724 0.17512426 0.55548395 0.78112043]]\n",
      "[[ 2  6 10]\n",
      " [ 3  7 11]\n",
      " [ 4  8 12]\n",
      " [ 5  9 13]]\n",
      "[[5 5 5 5]\n",
      " [6 7 8 9]\n",
      " [9 9 9 9]]\n"
     ]
    }
   ],
   "source": [
    "A=np.arange(2,14).reshape((3,4))\n",
    "print(A)\n",
    "print(np.argmin(A))    #最小位置的索引\n",
    "print(np.argmax(A))    #最大位置的索引\n",
    "print(np.mean(A))      #平均值  也可以写成print（A.mean()）\n",
    "print(np.median(A))    #中位数\n",
    "print(np.diff(A))      #相邻两个求差\n",
    "print(np.cumsum(A))    #前几项求和\n",
    "print(np.nonzero(A))   #非零的下标，先是行数，后是列数\n",
    "print(np.sort(a))      #排序\n",
    "print(np.transpose(A))  #转置，也可以写成 A.T\n",
    "print(np.clip(A,5,9))   # 大于9的数都等于9，小于5的数都等于5,clip 先设置最小值，再设置最大值"
   ]
  },
  {
   "cell_type": "code",
   "execution_count": 35,
   "metadata": {},
   "outputs": [
    {
     "name": "stdout",
     "output_type": "stream",
     "text": [
      "11\n",
      "11\n",
      "[6 7 8 9]\n",
      "[2 3 4 5]\n",
      "[6 7 8 9]\n",
      "[10 11 12 13]\n",
      "[ 2  6 10]\n",
      "[ 3  7 11]\n",
      "[ 4  8 12]\n",
      "[ 5  9 13]\n",
      "2\n",
      "3\n",
      "4\n",
      "5\n",
      "6\n",
      "7\n",
      "8\n",
      "9\n",
      "10\n",
      "11\n",
      "12\n",
      "13\n"
     ]
    }
   ],
   "source": [
    "# numpy 索引\n",
    "print(A[2][1])  # Python下标是从0开始的\n",
    "print(A[2,1])\n",
    "print(A[1])   # 输出的是一整行，也可以写 A[1,:]\n",
    "for row in A:\n",
    "    print(row)\n",
    "for column in A.T:\n",
    "    print(column)    # 利用转置，来选中列\n",
    "for item in A.flat:\n",
    "    print(item)         # 输出的是每个元素 ，可以和 flatten做对比，具体见 Numpy 笔记"
   ]
  },
  {
   "cell_type": "code",
   "execution_count": 39,
   "metadata": {},
   "outputs": [
    {
     "name": "stdout",
     "output_type": "stream",
     "text": [
      "[1 1 1 2 2 2]\n",
      "(3,) (2, 3)\n",
      "(1, 3)\n"
     ]
    }
   ],
   "source": [
    "# numpy array 的合并\n",
    "A=np.array([1,1,1])\n",
    "B=np.array([2,2,2])\n",
    "\n",
    "C=np.vstack((A,B))  #vertical stack 上下的合并\n",
    "D=np.hstack((A,B))  # horizontal stack, 左右合并\n",
    "print(D)\n",
    "print(A.shape,C.shape)  # (3,) (2, 3)\n",
    "\n",
    "# 增加维度可以用 newaxis\n",
    "A=A[np.newaxis,:]\n",
    "print(A.shape)   # (1, 3)\n",
    "\n",
    "# 拼接还有 append， concatenate 具体见 Numpy 笔记"
   ]
  },
  {
   "cell_type": "code",
   "execution_count": null,
   "metadata": {},
   "outputs": [],
   "source": [
    "# numpy array 的分割\n",
    "A=np.arange(12).reshape((3,4))\n"
   ]
  }
 ],
 "metadata": {
  "kernelspec": {
   "display_name": "Python 3",
   "language": "python",
   "name": "python3"
  },
  "language_info": {
   "codemirror_mode": {
    "name": "ipython",
    "version": 3
   },
   "file_extension": ".py",
   "mimetype": "text/x-python",
   "name": "python",
   "nbconvert_exporter": "python",
   "pygments_lexer": "ipython3",
   "version": "3.6.5"
  }
 },
 "nbformat": 4,
 "nbformat_minor": 2
}
