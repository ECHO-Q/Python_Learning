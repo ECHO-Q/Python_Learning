{
 "cells": [
  {
   "cell_type": "code",
   "execution_count": 1,
   "metadata": {},
   "outputs": [
    {
     "name": "stdout",
     "output_type": "stream",
     "text": [
      "输入华氏温度： 200\n",
      "200.0华氏度=93.3摄氏度\n"
     ]
    }
   ],
   "source": [
    "\"\"\"\n",
    "将华氏温度转为摄氏温度\n",
    "\"\"\"\n",
    "f=float(input('输入华氏温度： '))\n",
    "c=(f-32)/1.8\n",
    "print('%.1f华氏度=%.1f摄氏度'%(f,c))"
   ]
  },
  {
   "cell_type": "code",
   "execution_count": 4,
   "metadata": {},
   "outputs": [
    {
     "name": "stdout",
     "output_type": "stream",
     "text": [
      "输入半径： 10.5\n",
      "周长：65.97\n",
      "面积：346.36\n"
     ]
    }
   ],
   "source": [
    "\"\"\"\n",
    "输入圆的半径计算周长和面积\n",
    "\"\"\"\n",
    "import math\n",
    "\n",
    "radius=float(input('输入半径： '))\n",
    "perimeter=2*math.pi*radius\n",
    "# area=math.pi*radius*radius\n",
    "area=math.pi*radius**2\n",
    "print('周长：%.2f'%perimeter)\n",
    "print('面积：%.2f'%area)"
   ]
  },
  {
   "cell_type": "code",
   "execution_count": 5,
   "metadata": {},
   "outputs": [
    {
     "name": "stdout",
     "output_type": "stream",
     "text": [
      "输入年份：2019\n",
      "False\n"
     ]
    }
   ],
   "source": [
    "\"\"\"\n",
    "判断是否为闰年\n",
    "\"\"\"\n",
    "year=int(input('输入年份：'))\n",
    "is_leap=(year%4==0 and year%100!=0 or year%400==0)\n",
    "print(is_leap)"
   ]
  }
 ],
 "metadata": {
  "kernelspec": {
   "display_name": "Python 3",
   "language": "python",
   "name": "python3"
  },
  "language_info": {
   "codemirror_mode": {
    "name": "ipython",
    "version": 3
   },
   "file_extension": ".py",
   "mimetype": "text/x-python",
   "name": "python",
   "nbconvert_exporter": "python",
   "pygments_lexer": "ipython3",
   "version": "3.6.5"
  }
 },
 "nbformat": 4,
 "nbformat_minor": 2
}
