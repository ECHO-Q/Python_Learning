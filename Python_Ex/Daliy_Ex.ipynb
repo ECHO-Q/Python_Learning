{
 "cells": [
  {
   "cell_type": "code",
   "execution_count": 1,
   "metadata": {},
   "outputs": [
    {
     "name": "stdout",
     "output_type": "stream",
     "text": [
      "输入华氏温度： 200\n",
      "200.0华氏度=93.3摄氏度\n"
     ]
    }
   ],
   "source": [
    "\"\"\"\n",
    "将华氏温度转为摄氏温度\n",
    "\"\"\"\n",
    "f=float(input('输入华氏温度： '))\n",
    "c=(f-32)/1.8\n",
    "print('%.1f华氏度=%.1f摄氏度'%(f,c))"
   ]
  },
  {
   "cell_type": "code",
   "execution_count": 4,
   "metadata": {},
   "outputs": [
    {
     "name": "stdout",
     "output_type": "stream",
     "text": [
      "输入半径： 10.5\n",
      "周长：65.97\n",
      "面积：346.36\n"
     ]
    }
   ],
   "source": [
    "\"\"\"\n",
    "输入圆的半径计算周长和面积\n",
    "\"\"\"\n",
    "import math\n",
    "\n",
    "radius=float(input('输入半径： '))\n",
    "perimeter=2*math.pi*radius\n",
    "# area=math.pi*radius*radius\n",
    "area=math.pi*radius**2\n",
    "print('周长：%.2f'%perimeter)\n",
    "print('面积：%.2f'%area)"
   ]
  },
  {
   "cell_type": "code",
   "execution_count": 5,
   "metadata": {},
   "outputs": [
    {
     "name": "stdout",
     "output_type": "stream",
     "text": [
      "输入年份：2019\n",
      "False\n"
     ]
    }
   ],
   "source": [
    "\"\"\"\n",
    "判断是否为闰年\n",
    "\"\"\"\n",
    "year=int(input('输入年份：'))\n",
    "is_leap=(year%4==0 and year%100!=0 or year%400==0)\n",
    "print(is_leap)"
   ]
  },
  {
   "cell_type": "code",
   "execution_count": 4,
   "metadata": {},
   "outputs": [
    {
     "name": "stdout",
     "output_type": "stream",
     "text": [
      "0\n",
      "1\n",
      "153\n",
      "370\n",
      "371\n",
      "407\n",
      "1000\n"
     ]
    }
   ],
   "source": [
    "\"\"\"\n",
    "寻找水仙花数\n",
    "指一个三位数，每个位上的数字的三次幂之和等于它本身\n",
    "\"\"\"\n",
    "\n",
    "import math\n",
    "for num in range(1001):\n",
    "    low=num%10\n",
    "    mid=num//10%10\n",
    "    high=num//100\n",
    "    if num==low**3+mid**3+high**3:\n",
    "        print(num)"
   ]
  },
  {
   "cell_type": "code",
   "execution_count": 43,
   "metadata": {
    "scrolled": true
   },
   "outputs": [
    {
     "name": "stdout",
     "output_type": "stream",
     "text": [
      "6\n",
      "28\n",
      "496\n",
      "8128\n"
     ]
    }
   ],
   "source": [
    "import math\n",
    "import numpy as np\n",
    "\n",
    "for num in range(1,10000):\n",
    "    sum=0\n",
    "    for factor in range(1,num):\n",
    "        if num%factor==0:\n",
    "            sum+=factor\n",
    "#             if factor>1 and num/factor!=factor:\n",
    "#                 sum+=factor\n",
    "    if sum==num:\n",
    "        print(num)\n",
    "#     fac_sum=fac.sum()\n",
    "#     print(fac_sum)\n",
    "#     if fac_sum==num:\n",
    "#         print(num)\n"
   ]
  },
  {
   "cell_type": "code",
   "execution_count": 45,
   "metadata": {},
   "outputs": [
    {
     "name": "stdout",
     "output_type": "stream",
     "text": [
      "number of cock is: 0 number of hen is: 25 and number of others is: 75\n",
      "number of cock is: 4 number of hen is: 18 and number of others is: 78\n",
      "number of cock is: 8 number of hen is: 11 and number of others is: 81\n",
      "number of cock is: 12 number of hen is: 4 and number of others is: 84\n"
     ]
    }
   ],
   "source": [
    "for num_cock in range(0,100):\n",
    "    for num_hen in range(0,100):\n",
    "        if 14*num_cock+8*num_hen-200==0 and 100-num_cock-num_hen>=0:\n",
    "            print(\"number of cock is:\",num_cock,\"number of hen is:\",num_hen,\"and number of others is:\",100-num_cock-num_hen)"
   ]
  },
  {
   "cell_type": "code",
   "execution_count": 28,
   "metadata": {},
   "outputs": [
    {
     "name": "stdout",
     "output_type": "stream",
     "text": [
      "1\n",
      "6\n",
      "28\n",
      "496\n",
      "8128\n"
     ]
    }
   ],
   "source": [
    "import time\n",
    "import math\n",
    "\n",
    "for num in range(1, 10000):\n",
    "    sum = 0\n",
    "    for factor in range(1, int(math.sqrt(num)) + 1):\n",
    "        if num % factor == 0:\n",
    "            sum += factor\n",
    "            if factor > 1 and num / factor != factor:\n",
    "                sum += num / factor\n",
    "    if sum == num:\n",
    "        print(num)"
   ]
  }
 ],
 "metadata": {
  "kernelspec": {
   "display_name": "Python 3",
   "language": "python",
   "name": "python3"
  },
  "language_info": {
   "codemirror_mode": {
    "name": "ipython",
    "version": 3
   },
   "file_extension": ".py",
   "mimetype": "text/x-python",
   "name": "python",
   "nbconvert_exporter": "python",
   "pygments_lexer": "ipython3",
   "version": "3.6.5"
  }
 },
 "nbformat": 4,
 "nbformat_minor": 2
}
